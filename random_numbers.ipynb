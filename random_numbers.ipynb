{
 "cells": [
  {
   "cell_type": "code",
   "execution_count": 10,
   "id": "d1d89fe9",
   "metadata": {},
   "outputs": [],
   "source": [
    "# Import the random module.\n",
    "import random"
   ]
  },
  {
   "cell_type": "code",
   "execution_count": 11,
   "id": "c77be154",
   "metadata": {},
   "outputs": [
    {
     "data": {
      "text/plain": [
       "-4"
      ]
     },
     "execution_count": 11,
     "metadata": {},
     "output_type": "execute_result"
    }
   ],
   "source": [
    "# returns whole integers only\n",
    "random.randint(-90, 90)"
   ]
  },
  {
   "cell_type": "code",
   "execution_count": 12,
   "id": "173c7c59",
   "metadata": {},
   "outputs": [
    {
     "data": {
      "text/plain": [
       "0.2951197855911136"
      ]
     },
     "execution_count": 12,
     "metadata": {},
     "output_type": "execute_result"
    }
   ],
   "source": [
    "# returns numbers between 0 and 1 only\n",
    "random.random()"
   ]
  },
  {
   "cell_type": "code",
   "execution_count": 13,
   "id": "81afefd3",
   "metadata": {},
   "outputs": [
    {
     "data": {
      "text/plain": [
       "-9.700150547520238"
      ]
     },
     "execution_count": 13,
     "metadata": {},
     "output_type": "execute_result"
    }
   ],
   "source": [
    "# gets floating decimal from .random and gets larger range from .randint\n",
    "random_number = random.randint(-90, 89) + random.random()\n",
    "random_number"
   ]
  },
  {
   "cell_type": "code",
   "execution_count": 15,
   "id": "17bd69e5",
   "metadata": {},
   "outputs": [
    {
     "name": "stdout",
     "output_type": "stream",
     "text": [
      "[-45.72974569739384, -28.36578419895459, 30.746699476617465, 29.608844200927983, 36.3792579212944, 71.05608676680043, 5.598454026422434, -54.83052798341155, -1.413223352587773, -27.114921261470514]\n"
     ]
    }
   ],
   "source": [
    "# generate 10 random long and lat values\n",
    "x = 1\n",
    "latitudes = []\n",
    "while x < 11:\n",
    "    random_lat = random.randint(-90, 89) + random.random()\n",
    "    latitudes.append(random_lat)\n",
    "    x += 1\n",
    "print(latitudes)"
   ]
  },
  {
   "cell_type": "code",
   "execution_count": 18,
   "id": "0438d77d",
   "metadata": {},
   "outputs": [
    {
     "data": {
      "text/plain": [
       "-32"
      ]
     },
     "execution_count": 18,
     "metadata": {},
     "output_type": "execute_result"
    }
   ],
   "source": [
    "# whole integers only again, barely more powerful than .randint, can only additionally set step value\n",
    "random.randrange(-90, 90,step=1)"
   ]
  },
  {
   "cell_type": "code",
   "execution_count": 19,
   "id": "42daf1e4",
   "metadata": {},
   "outputs": [
    {
     "data": {
      "text/plain": [
       "-14.427438315673683"
      ]
     },
     "execution_count": 19,
     "metadata": {},
     "output_type": "execute_result"
    }
   ],
   "source": [
    "# can get a floating point decimal\n",
    "random.uniform(-90, 90)"
   ]
  },
  {
   "cell_type": "code",
   "execution_count": 20,
   "id": "7631f47d",
   "metadata": {},
   "outputs": [],
   "source": [
    "# Import the NumPy module. The NumPy module has a built-in random module, and supplements the built-in Python random module. \n",
    "# There is no need to import the random module if we import the NumPy module, \n",
    "# as it's redundant.\n",
    "import numpy as np"
   ]
  },
  {
   "cell_type": "code",
   "execution_count": 21,
   "id": "7882f174",
   "metadata": {},
   "outputs": [
    {
     "data": {
      "text/plain": [
       "-18.0874942102092"
      ]
     },
     "execution_count": 21,
     "metadata": {},
     "output_type": "execute_result"
    }
   ],
   "source": [
    "# here you can specify the degree of accuracy with space beyond deicmal point\n",
    "np.random.uniform(-90.000, 90.000)"
   ]
  },
  {
   "cell_type": "code",
   "execution_count": 22,
   "id": "990e9121",
   "metadata": {},
   "outputs": [
    {
     "data": {
      "text/plain": [
       "array([ 27.51015158,  75.57625043, -87.45975603, -38.45784685,\n",
       "        36.57194915, -59.51860559,  51.90351517,  48.88202355,\n",
       "        66.51038039,  59.76372427,  11.71777434,  -2.45218507,\n",
       "        85.68221234,  59.10688187, -38.96431546, -23.44135303,\n",
       "        25.24566342,  21.34278817,  61.85983333,  87.69694525,\n",
       "         0.76055541, -29.35651773, -25.61204223, -27.95037374,\n",
       "        81.20114868, -53.99960006, -50.73587003, -86.54194755,\n",
       "       -39.32199403,  -2.08267857,  73.84366675, -25.48556655,\n",
       "       -47.96000262, -55.37314706,  82.74392434, -36.27098446,\n",
       "       -74.35727888, -79.95575879, -25.05779486,   6.83991653,\n",
       "        31.35658232,  67.54485357,   8.69083395, -63.56287918,\n",
       "       -70.38931129,  76.33676175,  80.70474739,  30.8102038 ,\n",
       "        89.52782444,  -3.810213  ])"
      ]
     },
     "execution_count": 22,
     "metadata": {},
     "output_type": "execute_result"
    }
   ],
   "source": [
    "# you can also write it like this and add a size parameter\n",
    "np.random.uniform(low=-90.000, high=90.000, size=50)"
   ]
  },
  {
   "cell_type": "code",
   "execution_count": 23,
   "id": "33352f92",
   "metadata": {},
   "outputs": [],
   "source": [
    "# Import timeit.\n",
    "import timeit"
   ]
  },
  {
   "cell_type": "code",
   "execution_count": 24,
   "id": "12eccc17",
   "metadata": {},
   "outputs": [
    {
     "name": "stdout",
     "output_type": "stream",
     "text": [
      "21.4 µs ± 760 ns per loop (mean ± std. dev. of 7 runs, 10,000 loops each)\n"
     ]
    }
   ],
   "source": [
    "%timeit np.random.uniform(-90.000, 90.000, size=1500)"
   ]
  },
  {
   "cell_type": "code",
   "execution_count": 25,
   "id": "b3c34200",
   "metadata": {},
   "outputs": [
    {
     "name": "stdout",
     "output_type": "stream",
     "text": [
      "2.11 ms ± 30.6 µs per loop (mean ± std. dev. of 7 runs, 100 loops each)\n"
     ]
    }
   ],
   "source": [
    "# in instructions they didn't set upper limit to 89, which I think they meant to. was set to 90\n",
    "def latitudes(size):\n",
    "    latitudes = []\n",
    "    x = 0\n",
    "    while x < (size):\n",
    "        random_lat = random.randint(-90, 89) + random.random()\n",
    "        latitudes.append(random_lat)\n",
    "        x += 1\n",
    "    return latitudes\n",
    "# call the funciton with 1500\n",
    "%timeit latitudes(1500)"
   ]
  },
  {
   "cell_type": "code",
   "execution_count": null,
   "id": "3a8a6ca4",
   "metadata": {},
   "outputs": [],
   "source": []
  }
 ],
 "metadata": {
  "kernelspec": {
   "display_name": "Python 3 (ipykernel)",
   "language": "python",
   "name": "python3"
  },
  "language_info": {
   "codemirror_mode": {
    "name": "ipython",
    "version": 3
   },
   "file_extension": ".py",
   "mimetype": "text/x-python",
   "name": "python",
   "nbconvert_exporter": "python",
   "pygments_lexer": "ipython3",
   "version": "3.9.12"
  }
 },
 "nbformat": 4,
 "nbformat_minor": 5
}
